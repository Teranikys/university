{
 "cells": [
  {
   "cell_type": "markdown",
   "id": "bfbc98f4",
   "metadata": {},
   "source": [
    "# 1е задание\n",
    "Установить Python, если это не было сделано ранее."
   ]
  },
  {
   "cell_type": "markdown",
   "id": "21ed7490",
   "metadata": {},
   "source": [
    "# 2е задание\n",
    "Написать программу, которая вычисляет площадь фигуры, параметры которой подаются на вход. Фигуры, которые подаются на вход: треугольник, прямоугольник, круг. Результатом работы является словарь, где ключ – это название фигуры, а значение – это площадь."
   ]
  },
  {
   "cell_type": "code",
   "execution_count": null,
   "id": "d43c93d5",
   "metadata": {},
   "outputs": [
    {
     "name": "stdout",
     "output_type": "stream",
     "text": [
      "{'прямоугольник': 16.0}\n"
     ]
    }
   ],
   "source": [
    "import math\n",
    "\n",
    "# Запрашиваем у пользователя тип фигуры\n",
    "figure_type = input(\"Введите тип фигуры (круг, прямоугольник, треугольник): \").lower()\n",
    "\n",
    "# Создаем пустой словарь для результата\n",
    "result = {}\n",
    "\n",
    "match figure_type:\n",
    "    case \"круг\":\n",
    "        radius = float(input(\"Введите радиус круга: \"))\n",
    "        result[figure_type] = math.pi * (radius ** 2)\n",
    "    case \"прямоугольник\":\n",
    "        width = float(input(\"Введите ширину прямоугольника: \"))\n",
    "        height = float(input(\"Введите высоту прямоугольника: \"))\n",
    "        result[figure_type] = width * height\n",
    "    case \"треугольник\":\n",
    "        base = float(input(\"Введите основание треугольника: \"))\n",
    "        height = float(input(\"Введите высоту треугольника: \"))\n",
    "        result[figure_type] = 0.5 * base * height\n",
    "    case _:\n",
    "        print(\"Ошибка: неизвестный тип фигуры!\")\n",
    "\n",
    "# Выводим результат, если он был вычислен\n",
    "if result:\n",
    "    print(result)"
   ]
  },
  {
   "cell_type": "markdown",
   "id": "40eb682d",
   "metadata": {},
   "source": [
    "# 3е задание\n",
    "Написать программу, которая на вход получает два числа и операцию, которую к ним нужно применить. Должны быть реализованы следующие операции: +, -, /, //, abs – модуль, pow или ** – возведение в степень."
   ]
  },
  {
   "cell_type": "code",
   "execution_count": null,
   "id": "c5680a4a",
   "metadata": {},
   "outputs": [
    {
     "name": "stdout",
     "output_type": "stream",
     "text": [
      "{'**': 4.0}\n"
     ]
    }
   ],
   "source": [
    "import math\n",
    "\n",
    "operation = input(\"Введите операцию (+, -, /, //, abs, pow, **): \")\n",
    "first_num = int(input(\"Введите первое число: \"))\n",
    "if operation != 'abs':\n",
    "    second_num = int(input(\"Введите второе число: \"))\n",
    "\n",
    "result = {}\n",
    "\n",
    "try:\n",
    "    match operation:\n",
    "        case '+':\n",
    "            result[operation] = first_num + second_num\n",
    "        case '-':\n",
    "            result[operation] = first_num - second_num\n",
    "        case '/':\n",
    "            result[operation] = first_num / second_num\n",
    "        case '//':\n",
    "            result[operation] = first_num // second_num\n",
    "        case 'abs':\n",
    "            result[operation] = abs(first_num)\n",
    "        case '**'|'pow':\n",
    "            result[operation] = math.pow(first_num, second_num)\n",
    "        case _:\n",
    "            print(\"Неизвестная операция!\")\n",
    "except ZeroDivisionError:\n",
    "    print(\"Ошибка: деление на ноль!\")\n",
    "    \n",
    "\n",
    "if result:\n",
    "    print(result)"
   ]
  },
  {
   "cell_type": "markdown",
   "id": "c0aa8501",
   "metadata": {},
   "source": [
    "# 4е задание\n",
    "Напишите программу, которая считывает с консоли числа (по одному в строке) до тех пор, пока сумма введённых чисел не будет равна 0 и после этого выводит сумму квадратов всех считанных чисел."
   ]
  },
  {
   "cell_type": "code",
   "execution_count": 19,
   "id": "ba9765bb",
   "metadata": {},
   "outputs": [
    {
     "name": "stdout",
     "output_type": "stream",
     "text": [
      "[4, 4, 16]\n"
     ]
    }
   ],
   "source": [
    "sum = 0\n",
    "nums = []\n",
    "\n",
    "while True:\n",
    "    num = int(input(\"Введите число: \"))\n",
    "    sum += num\n",
    "    nums.append(num)\n",
    "\n",
    "    if sum == 0:\n",
    "        break\n",
    "\n",
    "print(list(map(lambda x: x ** 2, nums)))\n"
   ]
  },
  {
   "cell_type": "markdown",
   "id": "5f1c486b",
   "metadata": {},
   "source": [
    "# 5е задание\n",
    "Напишите программу, которая выводит последовательность чисел, длинною N, где каждое число повторяется столько раз, чему оно равно. На вход программе передаётся неотрицательное целое число N. Например, если N = 7, то программа должна вывести 1 2 2 3 3 3 4. Вывод элементов списка через пробел – print(*list)."
   ]
  },
  {
   "cell_type": "code",
   "execution_count": null,
   "id": "fba2fe6b",
   "metadata": {},
   "outputs": [
    {
     "name": "stdout",
     "output_type": "stream",
     "text": [
      "1 2 2 3 3 3 4\n"
     ]
    }
   ],
   "source": [
    "def list_gen(num: int) -> list[int]:\n",
    "    nums = []\n",
    "    for i in range(num):\n",
    "        for j in range(i):\n",
    "            if len(nums) == num:\n",
    "                return nums\n",
    "            nums.append(i)\n",
    "    return nums\n",
    "\n",
    "num = int(input(\"Введите число: \"))\n",
    "\n",
    "print(*list_gen(num))"
   ]
  },
  {
   "cell_type": "markdown",
   "id": "c1805890",
   "metadata": {},
   "source": [
    "# 6е задание\n",
    "Даны два списка:\n",
    "\n",
    "А = [1, 2, 3, 4, 2, 1, 3, 4, 5, 6, 5, 4, 3, 2]\n",
    "\n",
    "В = [‘a’, ’b’, ’c’, ’c’, ’c’, ’b’, ’a’, ’c’, ’a’, ’a’, ’b’, ’c’, ’b’, ’a’]\n",
    "\n",
    "Создать словарь, в котором ключи – это содержимое списка В, а значения для ключей словаря – это сумма всех элементов списка А в соответствии с буквой, содержащийся на той же позиции в списке В. \n",
    "\n",
    "Пример результата программы: {‘a’ : 10, ‘b’ : 15, ‘c’ : 6}."
   ]
  },
  {
   "cell_type": "code",
   "execution_count": null,
   "id": "53efbb59",
   "metadata": {},
   "outputs": [
    {
     "name": "stdout",
     "output_type": "stream",
     "text": [
      "defaultdict(<class 'int'>, {'a': 2, 'b': 1})\n"
     ]
    }
   ],
   "source": [
    "import collections\n",
    "\n",
    "A = [1, 2, 3, 4, 2, 1, 3, 4, 5, 6, 5, 4, 3, 2]\n",
    "B = ['a', 'b', 'c', 'c', 'c', 'b', 'a', 'c', 'a', 'a', 'b', 'c', 'b', 'a']\n",
    "# В отличие от обычного словаря создаёт значение по-умолчанию при вставке в несуществующий ключ.\n",
    "# Аналог обычной map из Go.\n",
    "result = collections.defaultdict(int)\n",
    "\n",
    "for ind, value in enumerate(B):\n",
    "    result[value] += A[ind]\n",
    "\n",
    "print(result)"
   ]
  },
  {
   "cell_type": "markdown",
   "id": "1818700a",
   "metadata": {},
   "source": [
    "# 7е задание\n",
    "Скачать и загрузить данные о стоимости домов в калифорнии, используя библиотеку sklearn. "
   ]
  },
  {
   "cell_type": "code",
   "execution_count": null,
   "id": "e94bf452",
   "metadata": {},
   "outputs": [],
   "source": [
    "from sklearn.datasets import fetch_california_housing # pyright: ignore[reportMissingModuleSource]\n",
    "data = fetch_california_housing(as_frame=True)"
   ]
  },
  {
   "cell_type": "code",
   "execution_count": 33,
   "id": "5e9710ea",
   "metadata": {},
   "outputs": [
    {
     "name": "stdout",
     "output_type": "stream",
     "text": [
      ".. _california_housing_dataset:\n",
      "\n",
      "California Housing dataset\n",
      "--------------------------\n",
      "\n",
      "**Data Set Characteristics:**\n",
      "\n",
      "    :Number of Instances: 20640\n",
      "\n",
      "    :Number of Attributes: 8 numeric, predictive attributes and the target\n",
      "\n",
      "    :Attribute Information:\n",
      "        - MedInc        median income in block group\n",
      "        - HouseAge      median house age in block group\n",
      "        - AveRooms      average number of rooms per household\n",
      "        - AveBedrms     average number of bedrooms per household\n",
      "        - Population    block group population\n",
      "        - AveOccup      average number of household members\n",
      "        - Latitude      block group latitude\n",
      "        - Longitude     block group longitude\n",
      "\n",
      "    :Missing Attribute Values: None\n",
      "\n",
      "This dataset was obtained from the StatLib repository.\n",
      "https://www.dcc.fc.up.pt/~ltorgo/Regression/cal_housing.html\n",
      "\n",
      "The target variable is the median house value for California districts,\n",
      "expressed in hundreds of thousands of dollars ($100,000).\n",
      "\n",
      "This dataset was derived from the 1990 U.S. census, using one row per census\n",
      "block group. A block group is the smallest geographical unit for which the U.S.\n",
      "Census Bureau publishes sample data (a block group typically has a population\n",
      "of 600 to 3,000 people).\n",
      "\n",
      "A household is a group of people residing within a home. Since the average\n",
      "number of rooms and bedrooms in this dataset are provided per household, these\n",
      "columns may take surprisingly large values for block groups with few households\n",
      "and many empty houses, such as vacation resorts.\n",
      "\n",
      "It can be downloaded/loaded using the\n",
      ":func:`sklearn.datasets.fetch_california_housing` function.\n",
      "\n",
      ".. topic:: References\n",
      "\n",
      "    - Pace, R. Kelley and Ronald Barry, Sparse Spatial Autoregressions,\n",
      "      Statistics and Probability Letters, 33 (1997) 291-297\n",
      "\n"
     ]
    }
   ],
   "source": [
    "print(data.DESCR)"
   ]
  },
  {
   "cell_type": "markdown",
   "id": "f0eb1dfc",
   "metadata": {},
   "source": [
    "# 8е задание\n",
    "Использовать метод info()."
   ]
  },
  {
   "cell_type": "code",
   "execution_count": 29,
   "id": "3bb13b4d",
   "metadata": {},
   "outputs": [
    {
     "name": "stdout",
     "output_type": "stream",
     "text": [
      "<class 'pandas.core.frame.DataFrame'>\n",
      "RangeIndex: 20640 entries, 0 to 20639\n",
      "Data columns (total 9 columns):\n",
      " #   Column       Non-Null Count  Dtype  \n",
      "---  ------       --------------  -----  \n",
      " 0   MedInc       20640 non-null  float64\n",
      " 1   HouseAge     20640 non-null  float64\n",
      " 2   AveRooms     20640 non-null  float64\n",
      " 3   AveBedrms    20640 non-null  float64\n",
      " 4   Population   20640 non-null  float64\n",
      " 5   AveOccup     20640 non-null  float64\n",
      " 6   Latitude     20640 non-null  float64\n",
      " 7   Longitude    20640 non-null  float64\n",
      " 8   MedHouseVal  20640 non-null  float64\n",
      "dtypes: float64(9)\n",
      "memory usage: 1.4 MB\n"
     ]
    }
   ],
   "source": [
    "data.frame.info()"
   ]
  },
  {
   "cell_type": "markdown",
   "id": "19cb12ee",
   "metadata": {},
   "source": [
    "# 9е задание\n",
    "Узнать, есть ли пропущенные значения, используя isna().sum()."
   ]
  },
  {
   "cell_type": "code",
   "execution_count": 32,
   "id": "1d0c650a",
   "metadata": {},
   "outputs": [
    {
     "data": {
      "text/plain": [
       "MedInc         0\n",
       "HouseAge       0\n",
       "AveRooms       0\n",
       "AveBedrms      0\n",
       "Population     0\n",
       "AveOccup       0\n",
       "Latitude       0\n",
       "Longitude      0\n",
       "MedHouseVal    0\n",
       "dtype: int64"
      ]
     },
     "execution_count": 32,
     "metadata": {},
     "output_type": "execute_result"
    }
   ],
   "source": [
    "data.frame.isna().sum()"
   ]
  },
  {
   "cell_type": "markdown",
   "id": "4579e509",
   "metadata": {},
   "source": [
    "# 10е задание\n",
    "Вывести записи, где средний возраст домов в районе более 50 лет и население более 2500 человек, используя метод loc()."
   ]
  },
  {
   "cell_type": "code",
   "execution_count": 44,
   "id": "1c4bbb6d",
   "metadata": {},
   "outputs": [
    {
     "name": "stdout",
     "output_type": "stream",
     "text": [
      "Total rows: 13\n",
      "Minimal housing age: 52.0\n",
      "Minimal population number: 2589.0\n",
      "       MedInc  HouseAge  AveRooms  AveBedrms  Population    AveOccup  \\\n",
      "460    1.4012      52.0  3.105714   1.060000      3337.0    9.534286   \n",
      "4131   3.5349      52.0  4.646119   1.047945      2589.0    5.910959   \n",
      "4440   2.6806      52.0  4.806283   1.057592      3062.0    4.007853   \n",
      "5986   1.8750      52.0  4.500000   1.206349      2688.0   21.333333   \n",
      "7369   3.1901      52.0  4.730942   1.017937      3731.0    4.182735   \n",
      "8227   2.3305      52.0  3.488860   1.170380      3018.0    3.955439   \n",
      "13034  6.1359      52.0  8.275862   1.517241      6675.0  230.172414   \n",
      "15634  1.8295      52.0  2.628169   1.053521      2957.0    4.164789   \n",
      "15652  0.9000      52.0  2.237474   1.053535      3260.0    2.237474   \n",
      "15657  2.5166      52.0  2.839075   1.184049      3436.0    1.621520   \n",
      "15659  1.7240      52.0  2.278566   1.082348      4518.0    1.780142   \n",
      "15795  2.5755      52.0  3.402576   1.058776      2619.0    2.108696   \n",
      "15868  2.8135      52.0  4.584329   1.041169      2987.0    3.966799   \n",
      "\n",
      "       Latitude  Longitude  MedHouseVal  \n",
      "460       37.87    -122.26      1.75000  \n",
      "4131      34.13    -118.20      1.93600  \n",
      "4440      34.08    -118.21      1.53000  \n",
      "5986      34.10    -117.71      2.12500  \n",
      "7369      33.97    -118.21      1.67600  \n",
      "8227      33.78    -118.20      1.62500  \n",
      "13034     38.69    -121.15      2.25000  \n",
      "15634     37.80    -122.41      2.43800  \n",
      "15652     37.80    -122.41      5.00001  \n",
      "15657     37.79    -122.41      2.75000  \n",
      "15659     37.79    -122.41      2.25000  \n",
      "15795     37.77    -122.42      3.25000  \n",
      "15868     37.76    -122.41      2.60300  \n"
     ]
    }
   ],
   "source": [
    "df = data.frame\n",
    "result = df.loc[(df['HouseAge'] > 50) & (df['Population'] > 2500)]\n",
    "\n",
    "print(f\"Total rows: {len(result)}\")\n",
    "print(f\"Minimal housing age: {result['HouseAge'].min()}\")\n",
    "print(f\"Minimal population number: {result['Population'].min()}\")\n",
    "print(result)"
   ]
  },
  {
   "cell_type": "markdown",
   "id": "c01b0066",
   "metadata": {},
   "source": [
    "# 11е задание\n",
    "Узнать максимальное и минимальное значения медианной стоимости дома."
   ]
  },
  {
   "cell_type": "code",
   "execution_count": 41,
   "id": "5ec5dc9b",
   "metadata": {},
   "outputs": [
    {
     "name": "stdout",
     "output_type": "stream",
     "text": [
      "Maximal median housing value: 5.00001\n",
      "Minimal median housing value: 0.14999\n"
     ]
    }
   ],
   "source": [
    "print(f\"Maximal median housing value: {df['MedHouseVal'].max()}\")\n",
    "print(f\"Minimal median housing value: {df['MedHouseVal'].min()}\")"
   ]
  },
  {
   "cell_type": "markdown",
   "id": "9211d790",
   "metadata": {},
   "source": [
    "# 12е задание\n",
    "Используя метод apply(), вывести на экран название признака и его среднее значение."
   ]
  },
  {
   "cell_type": "code",
   "execution_count": 43,
   "id": "7d165ba3",
   "metadata": {},
   "outputs": [
    {
     "name": "stdout",
     "output_type": "stream",
     "text": [
      "Признак 'MedInc' среднее значение: 3.8707\n",
      "Признак 'HouseAge' среднее значение: 28.6395\n",
      "Признак 'AveRooms' среднее значение: 5.4290\n",
      "Признак 'AveBedrms' среднее значение: 1.0967\n",
      "Признак 'Population' среднее значение: 1425.4767\n",
      "Признак 'AveOccup' среднее значение: 3.0707\n",
      "Признак 'Latitude' среднее значение: 35.6319\n",
      "Признак 'Longitude' среднее значение: -119.5697\n",
      "Признак 'MedHouseVal' среднее значение: 2.0686\n"
     ]
    }
   ],
   "source": [
    "df.apply(lambda x: print(f\"Признак '{x.name}' среднее значение: {x.mean():.4f}\"));"
   ]
  }
 ],
 "metadata": {
  "kernelspec": {
   "display_name": "Python 3 (ipykernel)",
   "language": "python",
   "name": "python3"
  },
  "language_info": {
   "codemirror_mode": {
    "name": "ipython",
    "version": 3
   },
   "file_extension": ".py",
   "mimetype": "text/x-python",
   "name": "python",
   "nbconvert_exporter": "python",
   "pygments_lexer": "ipython3",
   "version": "3.11.6"
  }
 },
 "nbformat": 4,
 "nbformat_minor": 5
}
